{
  "cells": [
    {
      "cell_type": "markdown",
      "metadata": {
        "id": "view-in-github",
        "colab_type": "text"
      },
      "source": [
        "<a href=\"https://colab.research.google.com/github/TriAjiH/PCD-Kelompok7/blob/main/Code_Image.ipynb\" target=\"_parent\"><img src=\"https://colab.research.google.com/assets/colab-badge.svg\" alt=\"Open In Colab\"/></a>"
      ]
    },
    {
      "cell_type": "code",
      "source": [
        "\n",
        "# peringatan jika anda menggunakan codingan ini selain di colab, maka tolong \n",
        "# dicomment codeblock ini dengan seksama yaaaaa sampai batas # yang panjang\n",
        "\n",
        "import os\n",
        "os.system(\"git clone https://github.com/TriAjiH/PCD-Kelompok7\")\n",
        "os.system(\"rm /content/PCD-Kelompok7/Code_Image.ipynb\")\n",
        "os.system(\"rm /content/PCD-Kelompok7/README.md\")\n",
        "os.system(\"mv /content/PCD-Kelompok7/dataset /content\")\n",
        "os.system(\"rm -rf /content/PCD-Kelompok7\")\n",
        "\n",
        "##################################################################"
      ],
      "metadata": {
        "id": "Hin_zatM3xiC",
        "outputId": "46ba6d58-a369-4b55-f2a7-2e0d473c391b",
        "colab": {
          "base_uri": "https://localhost:8080/"
        }
      },
      "execution_count": 3,
      "outputs": [
        {
          "output_type": "stream",
          "name": "stdout",
          "text": [
            "Cloning into 'PCD-Kelompok7'...\n",
            "remote: Enumerating objects: 37, done.\u001b[K\n",
            "remote: Counting objects: 100% (14/14), done.\u001b[K\n",
            "remote: Compressing objects: 100% (10/10), done.\u001b[K\n",
            "remote: Total 37 (delta 3), reused 13 (delta 2), pack-reused 23\u001b[K\n",
            "Unpacking objects: 100% (37/37), done.\n",
            "Checking out files: 100% (20/20), done.\n"
          ]
        }
      ]
    },
    {
      "cell_type": "code",
      "execution_count": 5,
      "metadata": {
        "id": "jOlO4tHkEIp-"
      },
      "outputs": [],
      "source": [
        "import cv2\n",
        "import numpy as np\n",
        "import pandas as pd\n",
        "import os"
      ]
    },
    {
      "cell_type": "code",
      "source": [
        ""
      ],
      "metadata": {
        "id": "j6s6Ccy73sWc"
      },
      "execution_count": null,
      "outputs": []
    },
    {
      "cell_type": "code",
      "execution_count": null,
      "metadata": {
        "id": "hVb-VyYsEpDO"
      },
      "outputs": [],
      "source": [
        ""
      ]
    },
    {
      "cell_type": "code",
      "execution_count": null,
      "metadata": {
        "id": "31pfhc1YEktf"
      },
      "outputs": [],
      "source": [
        ""
      ]
    }
  ],
  "metadata": {
    "colab": {
      "name": "Untitled3.ipynb",
      "provenance": [],
      "include_colab_link": true
    },
    "kernelspec": {
      "display_name": "Python 3",
      "name": "python3"
    },
    "language_info": {
      "name": "python"
    }
  },
  "nbformat": 4,
  "nbformat_minor": 0
}